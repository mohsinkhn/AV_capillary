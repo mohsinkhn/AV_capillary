{
 "cells": [
  {
   "cell_type": "code",
   "execution_count": 1,
   "metadata": {},
   "outputs": [],
   "source": [
    "import pandas as pd\n",
    "import numba\n",
    "import numpy as np\n",
    "import config\n",
    "from sklearn.model_selection import StratifiedKFold\n",
    "import lightgbm as lgb"
   ]
  },
  {
   "cell_type": "code",
   "execution_count": 2,
   "metadata": {},
   "outputs": [],
   "source": [
    "#Make a classification model for reorder"
   ]
  },
  {
   "cell_type": "code",
   "execution_count": 3,
   "metadata": {},
   "outputs": [],
   "source": [
    "def apk(actual, predicted, k=3):\n",
    "    \"\"\"\n",
    "    Computes the average precision at k.\n",
    "    This function computes the average prescision at k between two lists of\n",
    "    items.\n",
    "    Parameters\n",
    "    ----------\n",
    "    actual : list\n",
    "             A list of elements that are to be predicted (order doesn't matter)\n",
    "    predicted : list\n",
    "                A list of predicted elements (order does matter)\n",
    "    k : int, optional\n",
    "        The maximum number of predicted elements\n",
    "    Returns\n",
    "    -------\n",
    "    score : double\n",
    "            The average precision at k over the input lists\n",
    "    \"\"\"\n",
    "    \n",
    "    actual = set(actual)\n",
    "    predicted = list(predicted)\n",
    "    \n",
    "    if len(predicted)>k:\n",
    "        predicted = predicted[:k]\n",
    "\n",
    "    score = 0.0\n",
    "    num_hits = 0.0\n",
    "\n",
    "    for i,p in enumerate(predicted):\n",
    "        if p in actual and p not in set(predicted[:i]):\n",
    "            num_hits += 1.0\n",
    "            score += num_hits / (i+1.0)\n",
    "            \n",
    "    if not actual:\n",
    "        return 0.0\n",
    "\n",
    "    return score / min(len(actual), k)\n",
    "\n",
    "\n",
    "def mapk(actual, predicted, k=3):\n",
    "    \"\"\"\n",
    "    Computes the mean average precision at k.\n",
    "    This function computes the mean average prescision at k between two lists\n",
    "    of lists of items.\n",
    "    Parameters\n",
    "    ----------\n",
    "    actual : list\n",
    "             A list of lists of elements that are to be predicted \n",
    "             (order doesn't matter in the lists)\n",
    "    predicted : list\n",
    "                A list of lists of predicted elements\n",
    "                (order matters in the lists)\n",
    "    k : int, optional\n",
    "        The maximum number of predicted elements\n",
    "    Returns\n",
    "    -------\n",
    "    score : double\n",
    "            The mean average precision at k over the input lists\n",
    "    \"\"\"\n",
    "    outs = [apk(a,p,k) for a,p in zip(actual, predicted)]\n",
    "    return np.mean([apk(a,p,k) for a,p in zip(actual, predicted)]), outs"
   ]
  },
  {
   "cell_type": "code",
   "execution_count": 4,
   "metadata": {},
   "outputs": [],
   "source": [
    "def read_data(mode='val'):\n",
    "    if mode ==\"val\":\n",
    "        train = pd.read_csv(config.tr_data, parse_dates=[\"OrderDate\"])\n",
    "        test = pd.read_csv(config.val_data)\n",
    "    else:\n",
    "        train = pd.read_csv(config.train_data)\n",
    "        train[\"OrderDate\"] = pd.to_datetime(train[\"OrderDate\"], format=\"%d/%m/%y\")\n",
    "        test = pd.read_csv(config.test_data)\n",
    "    products = pd.read_csv(config.product_data).pivot_table(index='productid',\n",
    "                                                            columns='attribute_name',\n",
    "                                                            values='attributevalue').fillna(-1).reset_index()\n",
    "    train = pd.merge(train, products, on='productid', how='left').fillna(-1)\n",
    "    return train, test"
   ]
  },
  {
   "cell_type": "code",
   "execution_count": 5,
   "metadata": {},
   "outputs": [],
   "source": [
    "def get_df(train, test):\n",
    "    train_tuples = []\n",
    "    test_users = test.UserId.unique()\n",
    "    for i, (uid, pid) in train[[\"UserId\", \"productid\"]].drop_duplicates().iterrows():\n",
    "        t = (int(uid), int(pid))\n",
    "        if (int(uid) in test_users):\n",
    "            train_tuples.append(t)\n",
    "            \n",
    "    df = pd.DataFrame(train_tuples, columns=['UserId', 'productid'])\n",
    "    print(df.shape)\n",
    "    return df"
   ]
  },
  {
   "cell_type": "code",
   "execution_count": 6,
   "metadata": {},
   "outputs": [],
   "source": [
    "def get_features(history, df):\n",
    "    # get time since previous\n",
    "    #history[\"days_diff\"] = history[\"OrderDate\"].max() - history[\"OrderDate\"]\n",
    "    #df[\"prev_order\"] = history.groupby(\"UserI\")\n",
    "    \n",
    "    tmp = history.groupby([\"UserId\", \"productid\"]).size()\n",
    "    tmp.name = 'usr_prd_cnt'\n",
    "    df = df.join(tmp, on=[\"UserId\", \"productid\"], how='left')\n",
    "    df['usr_prd_cnt'] = np.loag1p(df['usr_prd_cnt'].fillna(0))\n",
    "\n",
    "    # get time since previous\n",
    "    tmp = history.groupby([\"UserId\", \"productid\"])[\"Quantity\"].sum()\n",
    "    tmp.name = 'usr_prd_qnty'\n",
    "    df = df.join(tmp, on=[\"UserId\", \"productid\"], how='left')\n",
    "    df['usr_prd_qnty'] = df['usr_prd_qnty'].fillna(0)\n",
    "    \n",
    "    tmp = history.groupby([\"UserId\"])['Quantity'].sum()\n",
    "    tmp.name = 'usr_qnty'\n",
    "    df = df.join(tmp, on=[\"UserId\"], how='left')\n",
    "    df['usr_qnty'] = df['usr_qnty'].fillna(0)\n",
    "    \n",
    "    tmp = history.groupby([\"UserId\"])['Quantity'].mean()\n",
    "    tmp.name = 'usr_mean'\n",
    "    df = df.join(tmp, on=[\"UserId\"], how='left')\n",
    "    df['usr_mean'] = df['usr_mean'].fillna(0)\n",
    "\n",
    "    tmp = history.groupby([\"productid\"])[\"Quantity\"].sum()\n",
    "    tmp.name = 'prd_qnty'\n",
    "    df = df.join(tmp, on=[\"productid\"], how='left')\n",
    "    df['prd_qnty'] = df['prd_qnty'].fillna(0)\n",
    "    \n",
    "    tmp = history.groupby([\"UserId\"])[\"productid\"].nunique()\n",
    "    tmp.name = 'usr_unq_prd'\n",
    "    df = df.join(tmp, on=[\"UserId\"], how='left')\n",
    "    df['usr_unq_prd'] = df['usr_unq_prd'].fillna(0)\n",
    "    \n",
    "    tmp = history.groupby([\"productid\"])[\"UserId\"].nunique()\n",
    "    tmp.name = 'prd_unq_usr'\n",
    "    df = df.join(tmp, on=[\"productid\"], how='left')\n",
    "    df['prd_unq_usr'] = df['prd_unq_usr'].fillna(0)\n",
    "    \n",
    "    return df"
   ]
  },
  {
   "cell_type": "code",
   "execution_count": 7,
   "metadata": {},
   "outputs": [],
   "source": [
    "def map_target(df, val):\n",
    "    tmp = val[[\"UserId\", \"productid\"]].drop_duplicates()\n",
    "    tmp[\"target\"]  = 1\n",
    "    tmp = tmp.set_index([\"UserId\", \"productid\"])\n",
    "    df = df.join(tmp, on=[\"UserId\", \"productid\"])\n",
    "    df[\"target\"] = df[\"target\"].fillna(0)\n",
    "    return df"
   ]
  },
  {
   "cell_type": "code",
   "execution_count": 8,
   "metadata": {},
   "outputs": [
    {
     "name": "stdout",
     "output_type": "stream",
     "text": [
      "(11588, 2)\n"
     ]
    },
    {
     "data": {
      "text/html": [
       "<div>\n",
       "<style scoped>\n",
       "    .dataframe tbody tr th:only-of-type {\n",
       "        vertical-align: middle;\n",
       "    }\n",
       "\n",
       "    .dataframe tbody tr th {\n",
       "        vertical-align: top;\n",
       "    }\n",
       "\n",
       "    .dataframe thead th {\n",
       "        text-align: right;\n",
       "    }\n",
       "</style>\n",
       "<table border=\"1\" class=\"dataframe\">\n",
       "  <thead>\n",
       "    <tr style=\"text-align: right;\">\n",
       "      <th></th>\n",
       "      <th>UserId</th>\n",
       "      <th>productid</th>\n",
       "    </tr>\n",
       "  </thead>\n",
       "  <tbody>\n",
       "    <tr>\n",
       "      <th>0</th>\n",
       "      <td>18075</td>\n",
       "      <td>12322648</td>\n",
       "    </tr>\n",
       "    <tr>\n",
       "      <th>1</th>\n",
       "      <td>6820</td>\n",
       "      <td>12371370</td>\n",
       "    </tr>\n",
       "    <tr>\n",
       "      <th>2</th>\n",
       "      <td>6820</td>\n",
       "      <td>12973004</td>\n",
       "    </tr>\n",
       "    <tr>\n",
       "      <th>3</th>\n",
       "      <td>6820</td>\n",
       "      <td>12657560</td>\n",
       "    </tr>\n",
       "    <tr>\n",
       "      <th>4</th>\n",
       "      <td>6820</td>\n",
       "      <td>11659914</td>\n",
       "    </tr>\n",
       "  </tbody>\n",
       "</table>\n",
       "</div>"
      ],
      "text/plain": [
       "   UserId  productid\n",
       "0   18075   12322648\n",
       "1    6820   12371370\n",
       "2    6820   12973004\n",
       "3    6820   12657560\n",
       "4    6820   11659914"
      ]
     },
     "execution_count": 8,
     "metadata": {},
     "output_type": "execute_result"
    }
   ],
   "source": [
    "tr, val = read_data(mode='val')\n",
    "val_df = get_df(tr, val)\n",
    "val_df.head()"
   ]
  },
  {
   "cell_type": "code",
   "execution_count": 9,
   "metadata": {},
   "outputs": [
    {
     "data": {
      "text/html": [
       "<div>\n",
       "<style scoped>\n",
       "    .dataframe tbody tr th:only-of-type {\n",
       "        vertical-align: middle;\n",
       "    }\n",
       "\n",
       "    .dataframe tbody tr th {\n",
       "        vertical-align: top;\n",
       "    }\n",
       "\n",
       "    .dataframe thead th {\n",
       "        text-align: right;\n",
       "    }\n",
       "</style>\n",
       "<table border=\"1\" class=\"dataframe\">\n",
       "  <thead>\n",
       "    <tr style=\"text-align: right;\">\n",
       "      <th></th>\n",
       "      <th>UserId</th>\n",
       "      <th>productid</th>\n",
       "      <th>usr_prd_cnt</th>\n",
       "      <th>usr_prd_qnty</th>\n",
       "      <th>usr_qnty</th>\n",
       "      <th>usr_mean</th>\n",
       "      <th>prd_qnty</th>\n",
       "      <th>usr_unq_prd</th>\n",
       "      <th>prd_unq_usr</th>\n",
       "      <th>target</th>\n",
       "    </tr>\n",
       "  </thead>\n",
       "  <tbody>\n",
       "    <tr>\n",
       "      <th>0</th>\n",
       "      <td>18075</td>\n",
       "      <td>12322648</td>\n",
       "      <td>2</td>\n",
       "      <td>2</td>\n",
       "      <td>34</td>\n",
       "      <td>1.0</td>\n",
       "      <td>122</td>\n",
       "      <td>25</td>\n",
       "      <td>83</td>\n",
       "      <td>0.0</td>\n",
       "    </tr>\n",
       "    <tr>\n",
       "      <th>1</th>\n",
       "      <td>6820</td>\n",
       "      <td>12371370</td>\n",
       "      <td>1</td>\n",
       "      <td>1</td>\n",
       "      <td>11</td>\n",
       "      <td>1.0</td>\n",
       "      <td>50</td>\n",
       "      <td>11</td>\n",
       "      <td>37</td>\n",
       "      <td>0.0</td>\n",
       "    </tr>\n",
       "    <tr>\n",
       "      <th>2</th>\n",
       "      <td>6820</td>\n",
       "      <td>12973004</td>\n",
       "      <td>1</td>\n",
       "      <td>1</td>\n",
       "      <td>11</td>\n",
       "      <td>1.0</td>\n",
       "      <td>284</td>\n",
       "      <td>11</td>\n",
       "      <td>72</td>\n",
       "      <td>0.0</td>\n",
       "    </tr>\n",
       "    <tr>\n",
       "      <th>3</th>\n",
       "      <td>6820</td>\n",
       "      <td>12657560</td>\n",
       "      <td>1</td>\n",
       "      <td>1</td>\n",
       "      <td>11</td>\n",
       "      <td>1.0</td>\n",
       "      <td>59</td>\n",
       "      <td>11</td>\n",
       "      <td>41</td>\n",
       "      <td>0.0</td>\n",
       "    </tr>\n",
       "    <tr>\n",
       "      <th>4</th>\n",
       "      <td>6820</td>\n",
       "      <td>11659914</td>\n",
       "      <td>1</td>\n",
       "      <td>1</td>\n",
       "      <td>11</td>\n",
       "      <td>1.0</td>\n",
       "      <td>120</td>\n",
       "      <td>11</td>\n",
       "      <td>66</td>\n",
       "      <td>0.0</td>\n",
       "    </tr>\n",
       "  </tbody>\n",
       "</table>\n",
       "</div>"
      ],
      "text/plain": [
       "   UserId  productid  usr_prd_cnt  usr_prd_qnty  usr_qnty  usr_mean  prd_qnty  \\\n",
       "0   18075   12322648            2             2        34       1.0       122   \n",
       "1    6820   12371370            1             1        11       1.0        50   \n",
       "2    6820   12973004            1             1        11       1.0       284   \n",
       "3    6820   12657560            1             1        11       1.0        59   \n",
       "4    6820   11659914            1             1        11       1.0       120   \n",
       "\n",
       "   usr_unq_prd  prd_unq_usr  target  \n",
       "0           25           83     0.0  \n",
       "1           11           37     0.0  \n",
       "2           11           72     0.0  \n",
       "3           11           41     0.0  \n",
       "4           11           66     0.0  "
      ]
     },
     "execution_count": 9,
     "metadata": {},
     "output_type": "execute_result"
    }
   ],
   "source": [
    "val_df = get_features(tr, val_df)\n",
    "val_df = map_target(val_df, val)\n",
    "val_df.head()"
   ]
  },
  {
   "cell_type": "code",
   "execution_count": 10,
   "metadata": {},
   "outputs": [
    {
     "data": {
      "text/plain": [
       "0"
      ]
     },
     "execution_count": 10,
     "metadata": {},
     "output_type": "execute_result"
    }
   ],
   "source": [
    "len(set(val_df.productid) - set(tr.productid))"
   ]
  },
  {
   "cell_type": "code",
   "execution_count": 11,
   "metadata": {},
   "outputs": [],
   "source": [
    "cvlist = list(StratifiedKFold(5, shuffle=True, random_state=1234).split(val_df, val_df.target))"
   ]
  },
  {
   "cell_type": "code",
   "execution_count": 12,
   "metadata": {},
   "outputs": [],
   "source": [
    "def get_val(X, cvlist, feats, lgb_params, X_test=None):\n",
    "    val_preds = np.zeros((len(X),))\n",
    "    test_preds = []\n",
    "    for tr_idx, val_idx in cvlist:\n",
    "        print(\"=========================\")\n",
    "        tr, val = X.iloc[tr_idx], X.iloc[val_idx]\n",
    "        X_tr = tr[feats]\n",
    "        X_val = val[feats]\n",
    "        y_tr = tr[\"target\"]\n",
    "        y_val = val[\"target\"]\n",
    "\n",
    "        model = lgb.LGBMClassifier(**lgb_params)\n",
    "        model.fit(X_tr, y_tr,\n",
    "                  eval_set=[\n",
    "                      (X_tr, y_tr),\n",
    "                      (X_val, y_val)],\n",
    "                  eval_metric='auc',\n",
    "                  verbose=200, early_stopping_rounds=200,\n",
    "                  )\n",
    "        val_pred = model.predict_proba(X_val)[:, 1]\n",
    "        val_preds[val_idx] = val_pred\n",
    "        if X_test is not None:\n",
    "            test_preds.append(model.predict_proba(X_test)[:, 1])\n",
    "    test_preds = np.mean(test_preds, axis=0)\n",
    "    return val_preds, test_preds"
   ]
  },
  {
   "cell_type": "code",
   "execution_count": 13,
   "metadata": {},
   "outputs": [
    {
     "name": "stdout",
     "output_type": "stream",
     "text": [
      "(14645, 2)\n"
     ]
    },
    {
     "data": {
      "text/html": [
       "<div>\n",
       "<style scoped>\n",
       "    .dataframe tbody tr th:only-of-type {\n",
       "        vertical-align: middle;\n",
       "    }\n",
       "\n",
       "    .dataframe tbody tr th {\n",
       "        vertical-align: top;\n",
       "    }\n",
       "\n",
       "    .dataframe thead th {\n",
       "        text-align: right;\n",
       "    }\n",
       "</style>\n",
       "<table border=\"1\" class=\"dataframe\">\n",
       "  <thead>\n",
       "    <tr style=\"text-align: right;\">\n",
       "      <th></th>\n",
       "      <th>UserId</th>\n",
       "      <th>productid</th>\n",
       "      <th>usr_prd_cnt</th>\n",
       "      <th>usr_prd_qnty</th>\n",
       "      <th>usr_qnty</th>\n",
       "      <th>usr_mean</th>\n",
       "      <th>prd_qnty</th>\n",
       "      <th>usr_unq_prd</th>\n",
       "      <th>prd_unq_usr</th>\n",
       "    </tr>\n",
       "  </thead>\n",
       "  <tbody>\n",
       "    <tr>\n",
       "      <th>0</th>\n",
       "      <td>18075</td>\n",
       "      <td>12322648</td>\n",
       "      <td>2</td>\n",
       "      <td>2</td>\n",
       "      <td>53</td>\n",
       "      <td>1.000000</td>\n",
       "      <td>124</td>\n",
       "      <td>41</td>\n",
       "      <td>83</td>\n",
       "    </tr>\n",
       "    <tr>\n",
       "      <th>1</th>\n",
       "      <td>26784</td>\n",
       "      <td>12658110</td>\n",
       "      <td>29</td>\n",
       "      <td>29</td>\n",
       "      <td>43476</td>\n",
       "      <td>1.015344</td>\n",
       "      <td>85</td>\n",
       "      <td>2689</td>\n",
       "      <td>40</td>\n",
       "    </tr>\n",
       "    <tr>\n",
       "      <th>2</th>\n",
       "      <td>26784</td>\n",
       "      <td>12407108</td>\n",
       "      <td>8</td>\n",
       "      <td>8</td>\n",
       "      <td>43476</td>\n",
       "      <td>1.015344</td>\n",
       "      <td>29</td>\n",
       "      <td>2689</td>\n",
       "      <td>17</td>\n",
       "    </tr>\n",
       "    <tr>\n",
       "      <th>3</th>\n",
       "      <td>26784</td>\n",
       "      <td>11660062</td>\n",
       "      <td>5</td>\n",
       "      <td>5</td>\n",
       "      <td>43476</td>\n",
       "      <td>1.015344</td>\n",
       "      <td>8</td>\n",
       "      <td>2689</td>\n",
       "      <td>4</td>\n",
       "    </tr>\n",
       "    <tr>\n",
       "      <th>4</th>\n",
       "      <td>26784</td>\n",
       "      <td>12407166</td>\n",
       "      <td>18</td>\n",
       "      <td>18</td>\n",
       "      <td>43476</td>\n",
       "      <td>1.015344</td>\n",
       "      <td>69</td>\n",
       "      <td>2689</td>\n",
       "      <td>43</td>\n",
       "    </tr>\n",
       "  </tbody>\n",
       "</table>\n",
       "</div>"
      ],
      "text/plain": [
       "   UserId  productid  usr_prd_cnt  usr_prd_qnty  usr_qnty  usr_mean  prd_qnty  \\\n",
       "0   18075   12322648            2             2        53  1.000000       124   \n",
       "1   26784   12658110           29            29     43476  1.015344        85   \n",
       "2   26784   12407108            8             8     43476  1.015344        29   \n",
       "3   26784   11660062            5             5     43476  1.015344         8   \n",
       "4   26784   12407166           18            18     43476  1.015344        69   \n",
       "\n",
       "   usr_unq_prd  prd_unq_usr  \n",
       "0           41           83  \n",
       "1         2689           40  \n",
       "2         2689           17  \n",
       "3         2689            4  \n",
       "4         2689           43  "
      ]
     },
     "execution_count": 13,
     "metadata": {},
     "output_type": "execute_result"
    }
   ],
   "source": [
    "train, test = read_data(mode='test')\n",
    "test_df = get_df(train, test)\n",
    "test_df = get_features(train, test_df)\n",
    "test_df.head()"
   ]
  },
  {
   "cell_type": "code",
   "execution_count": 28,
   "metadata": {
    "scrolled": true
   },
   "outputs": [
    {
     "name": "stdout",
     "output_type": "stream",
     "text": [
      "=========================\n",
      "Training until validation scores don't improve for 200 rounds.\n",
      "[200]\ttraining's auc: 0.911696\tvalid_1's auc: 0.9133\n",
      "[400]\ttraining's auc: 0.922618\tvalid_1's auc: 0.914135\n",
      "Early stopping, best iteration is:\n",
      "[263]\ttraining's auc: 0.916028\tvalid_1's auc: 0.915377\n",
      "=========================\n",
      "Training until validation scores don't improve for 200 rounds.\n",
      "[200]\ttraining's auc: 0.912436\tvalid_1's auc: 0.901293\n",
      "[400]\ttraining's auc: 0.924988\tvalid_1's auc: 0.904313\n",
      "[600]\ttraining's auc: 0.930794\tvalid_1's auc: 0.90506\n",
      "[800]\ttraining's auc: 0.934707\tvalid_1's auc: 0.904595\n",
      "Early stopping, best iteration is:\n",
      "[662]\ttraining's auc: 0.932079\tvalid_1's auc: 0.905503\n",
      "=========================\n",
      "Training until validation scores don't improve for 200 rounds.\n",
      "[200]\ttraining's auc: 0.916374\tvalid_1's auc: 0.910857\n",
      "Early stopping, best iteration is:\n",
      "[117]\ttraining's auc: 0.90772\tvalid_1's auc: 0.915145\n",
      "=========================\n",
      "Training until validation scores don't improve for 200 rounds.\n",
      "[200]\ttraining's auc: 0.917789\tvalid_1's auc: 0.886256\n",
      "Early stopping, best iteration is:\n",
      "[48]\ttraining's auc: 0.903168\tvalid_1's auc: 0.895883\n",
      "=========================\n",
      "Training until validation scores don't improve for 200 rounds.\n",
      "[200]\ttraining's auc: 0.913554\tvalid_1's auc: 0.898039\n",
      "[400]\ttraining's auc: 0.925802\tvalid_1's auc: 0.900004\n",
      "[600]\ttraining's auc: 0.930688\tvalid_1's auc: 0.89934\n",
      "Early stopping, best iteration is:\n",
      "[461]\ttraining's auc: 0.927671\tvalid_1's auc: 0.901069\n"
     ]
    }
   ],
   "source": [
    "feats = ['usr_prd_cnt', 'usr_unq_prd', 'prd_unq_usr', 'usr_prd_qnty', 'usr_qnty', 'usr_mean', 'prd_qnty']\n",
    "params= {'n_estimators': 5000, 'learning_rate': 0.01, 'num_leaves': 8, 'seed': 1, 'subsample':0.8,\n",
    "         'colsample_bytree':1.0, 'reg_lambda': 0.1}\n",
    "val_preds, test_preds = get_val(val_df, cvlist, feats, params, X_test=test_df[feats])"
   ]
  },
  {
   "cell_type": "code",
   "execution_count": 46,
   "metadata": {},
   "outputs": [
    {
     "name": "stdout",
     "output_type": "stream",
     "text": [
      "0.4490954551015415\n"
     ]
    },
    {
     "data": {
      "text/plain": [
       "0.06795077581594434"
      ]
     },
     "execution_count": 46,
     "metadata": {},
     "output_type": "execute_result"
    }
   ],
   "source": [
    "from sklearn.metrics import roc_auc_score, f1_score\n",
    "print(roc_auc_score(val_df.target, val_preds))\n",
    "f1_score(val_df.target, val_preds > 0.1)"
   ]
  },
  {
   "cell_type": "code",
   "execution_count": 30,
   "metadata": {},
   "outputs": [
    {
     "data": {
      "text/plain": [
       "(0.1156368657231619, 0.11567077653424725)"
      ]
     },
     "execution_count": 30,
     "metadata": {},
     "output_type": "execute_result"
    }
   ],
   "source": [
    "np.mean(val_df.target), np.mean(val_preds)"
   ]
  },
  {
   "cell_type": "code",
   "execution_count": 31,
   "metadata": {},
   "outputs": [],
   "source": [
    "val_df['preds'] = val_preds\n",
    "test_df['preds'] = test_preds"
   ]
  },
  {
   "cell_type": "code",
   "execution_count": 47,
   "metadata": {},
   "outputs": [],
   "source": [
    "val_df = val_df.sort_values(by=['preds'], ascending=False)\n",
    "test_df = test_df.sort_values(by=['preds'], ascending=False)"
   ]
  },
  {
   "cell_type": "code",
   "execution_count": 48,
   "metadata": {},
   "outputs": [],
   "source": [
    "val_df.to_csv(\"outputs/val_df.csv\", index=False)\n",
    "test_df.to_csv(\"outputs/test_df.csv\", index=False)"
   ]
  },
  {
   "cell_type": "code",
   "execution_count": 49,
   "metadata": {},
   "outputs": [
    {
     "data": {
      "text/plain": [
       "(11588, 11)"
      ]
     },
     "execution_count": 49,
     "metadata": {},
     "output_type": "execute_result"
    }
   ],
   "source": [
    "val_df.shape"
   ]
  },
  {
   "cell_type": "code",
   "execution_count": 50,
   "metadata": {},
   "outputs": [
    {
     "data": {
      "image/png": "[encoded data removed]",
      "text/plain": [
       "<Figure size 432x288 with 1 Axes>"
      ]
     },
     "metadata": {},
     "output_type": "display_data"
    }
   ],
   "source": [
    "import matplotlib.pyplot as plt\n",
    "import seaborn as sns\n",
    "\n",
    "sns.distplot(test_preds)\n",
    "sns.distplot(val_preds)\n",
    "plt.show()"
   ]
  },
  {
   "cell_type": "code",
   "execution_count": 51,
   "metadata": {},
   "outputs": [
    {
     "data": {
      "text/plain": [
       "1712"
      ]
     },
     "execution_count": 51,
     "metadata": {},
     "output_type": "execute_result"
    }
   ],
   "source": [
    "sum(test_preds > 0.4)"
   ]
  },
  {
   "cell_type": "code",
   "execution_count": 52,
   "metadata": {},
   "outputs": [
    {
     "data": {
      "text/plain": [
       "36"
      ]
     },
     "execution_count": 52,
     "metadata": {},
     "output_type": "execute_result"
    }
   ],
   "source": [
    "sum(val_df.groupby(\"UserId\")[\"preds\"].max() > 0.1)"
   ]
  },
  {
   "cell_type": "code",
   "execution_count": null,
   "metadata": {},
   "outputs": [],
   "source": []
  }
 ],
 "metadata": {
  "kernelspec": {
   "display_name": "Python 3",
   "language": "python",
   "name": "python3"
  },
  "language_info": {
   "codemirror_mode": {
    "name": "ipython",
    "version": 3
   },
   "file_extension": ".py",
   "mimetype": "text/x-python",
   "name": "python",
   "nbconvert_exporter": "python",
   "pygments_lexer": "ipython3",
   "version": "3.6.4"
  }
 },
 "nbformat": 4,
 "nbformat_minor": 2
}
